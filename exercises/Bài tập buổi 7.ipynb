{
 "cells": [
  {
   "cell_type": "markdown",
   "metadata": {},
   "source": [
    "### 7_1:"
   ]
  },
  {
   "cell_type": "code",
   "execution_count": null,
   "metadata": {},
   "outputs": [],
   "source": [
    "#!/usr/bin/env python3\n",
    "\n",
    "\n",
    "def solve(*args):\n",
    "    \"\"\"Return tổng (kiểu float) của các phân số trong args\n",
    "\n",
    "    https://docs.python.org/3/library/fractions.html\n",
    "    Thư viện fractions cung cấp class Fraction để tạo ra kiểu phân số trên\n",
    "    Python.\n",
    "\n",
    "    Tham khảo:\n",
    "    http://www.familug.org/2017/03/python-fractions-tinh-toan-phan-so-tren.html\n",
    "    \"\"\"\n",
    "    result = None\n",
    "\n",
    "    # Xoá dòng sau và viết code vào đây set các giá trị phù hợp\n",
    "    raise NotImplementedError(\"Học viên chưa làm bài này\")\n",
    "\n",
    "    return result\n",
    "\n",
    "\n",
    "def main():\n",
    "    print(solve(\"1/10\", \"1/10\", \"1/10\"))\n",
    "\n",
    "\n",
    "# __name__ là một biến|name đặc biệt do Python tự tạo ra\n",
    "# nó có giá trị là string \"__main__\" khi file được chạy bằng lệnh\n",
    "# python filename.py\n",
    "# và có giá trị là tên file (bỏ .py) khi được import.\n",
    "if __name__ == \"__main__\":\n",
    "    main()"
   ]
  }
 ],
 "metadata": {
  "kernelspec": {
   "display_name": "Python 3",
   "language": "python",
   "name": "python3"
  },
  "language_info": {
   "codemirror_mode": {
    "name": "ipython",
    "version": 3
   },
   "file_extension": ".py",
   "mimetype": "text/x-python",
   "name": "python",
   "nbconvert_exporter": "python",
   "pygments_lexer": "ipython3",
   "version": "3.7.6"
  }
 },
 "nbformat": 4,
 "nbformat_minor": 4
}
