{
 "cells": [
  {
   "cell_type": "markdown",
   "metadata": {},
   "source": [
    "### 4_1:\n",
    "* 1: 22 mins"
   ]
  },
  {
   "cell_type": "code",
   "execution_count": 28,
   "metadata": {},
   "outputs": [
    {
     "name": "stdout",
     "output_type": "stream",
     "text": [
      "Nhập vào IP:192.168.1.1\n",
      "11000000.10101000.00000001.00000001\n"
     ]
    }
   ],
   "source": [
    "#!/usr/bin/env python3\n",
    "\"\"\"\n",
    "Bài tập ở PyMi không nhằm để kiểm tra IQ của học sinh, cũng không thi lấy điểm,\n",
    "mục tiêu của chúng tôi là học viên với trình độ đầu vào tùy ý, nhưng đến\n",
    "lúc ra đều có thể làm được việc. Vì vậy, nếu không tự làm được bài tập,\n",
    "học viên được KHUYẾN KHÍCH xem bài các bạn khác để làm mẫu rồi gõ làm theo.\n",
    "Tránh tình trạng không làm bài tập với lý do \"không làm được\".\n",
    "Xem tại: https://gitlab.com/pyfml/pyfml/merge_requests\n",
    "\n",
    "Đọc thêm: https://pymi.vn/blog/sap-xep-tieng-viet/\n",
    "\n",
    "===========\n",
    "\n",
    "while loop\n",
    "\n",
    "Dùng để lặp khi 1 điều kiện còn đúng:\n",
    "\n",
    "```python\n",
    "In [2]: i = 0\n",
    "\n",
    "In [3]: while i < 5:\n",
    "   ...:     print(i)\n",
    "   ...:     i = i + 1\n",
    "   ...:\n",
    "0\n",
    "1\n",
    "2\n",
    "3\n",
    "4\n",
    "```\n",
    "\n",
    "Tham khảo:\n",
    "- https://docs.python.org/3/tutorial/introduction.html#first-steps-towards-programming\n",
    "- https://docs.python.org/3/tutorial/controlflow.html#break-and-continue-statements-and-else-clauses-on-loops\n",
    "\"\"\"  # noqa\n",
    "\n",
    "\n",
    "def solve(ip):\n",
    "    \"\"\"IP là địa chỉ của một máy tính trong mạng (như địa chỉ nhà).\n",
    "    IPv4 được biểu diễn bằng 4 số từ 0-255, phân cách nhau bởi dấu `.`\n",
    "    Mỗi số trong khoảng 0-255 được biểu diễn bằng 8 bits (1 byte),\n",
    "    có tài liệu gọi 4 phần trong IPv4 này là 4 octet.\n",
    "    VD: IP của Google DNS là 8.8.8.8, IP mọi máy tính dùng để chỉ chính nó\n",
    "    có địa chỉ 127.0.0.1 hay thường gọi là localhost.\n",
    "\n",
    "    Trả về string biểu diễn binary (hệ cơ số 2) của `ip`.\n",
    "\n",
    "    Input::\n",
    "\n",
    "      192.168.1.1\n",
    "\n",
    "    Output::\n",
    "\n",
    "      11000000.10101000.00000001.00000001\n",
    "\n",
    "    Python có funtion đổi số integer thành biểu diễn ở hệ nhị phân (binary):\n",
    "\n",
    "      In [1]: bin(168)\n",
    "      Out[1]: '0b10101000'\n",
    "\n",
    "    Khi s = '1', s.zfill(5) sẽ thêm đủ \"zero\" để tạo thành '00001'\n",
    "    \"\"\"\n",
    "    result = None\n",
    "    ip_list = ip.split(\".\")\n",
    "    index_1 = None\n",
    "    bin_ip = []\n",
    "    for i in ip_list:\n",
    "        index_1 = bin(int(i)).find(\"1\")\n",
    "        if len(bin(int(i))[index_1:]) <8 :\n",
    "            bin_ip.append(bin(int(i))[index_1:].zfill(8))\n",
    "        else:\n",
    "            bin_ip.append(bin(int(i))[index_1:])\n",
    "    result = '.'.join(i for i in bin_ip)\n",
    "    return result\n",
    "\n",
    "\n",
    "def main():\n",
    "    \"\"\"\n",
    "    Biết function `input('Bạn tên gì?')` sẽ in ra màn hình dòng chữ \"Bạn tên\n",
    "    gì?\"\n",
    "    và chờ bạn nhập câu trả lời. Sau khi bạn gõ câu trả lời rồi enter,\n",
    "    nội dung bạn vừa gõ sẽ được function trả về::\n",
    "\n",
    "      In [4]: name = input('Bạn tên gì? ')\n",
    "      Bạn tên gì? Hưng\n",
    "\n",
    "      In [5]: print(name)\n",
    "      Hưng\n",
    "\n",
    "    Note::\n",
    "\n",
    "      Trên Python2, function tương ứng tên là `raw_input`\n",
    "    \"\"\"\n",
    "\n",
    "    ip = input(\"Nhập vào IP:\")\n",
    "    print(solve(ip))\n",
    "\n",
    "\n",
    "if __name__ == \"__main__\":\n",
    "    main()\n"
   ]
  },
  {
   "cell_type": "markdown",
   "metadata": {},
   "source": [
    "### 4_4:"
   ]
  },
  {
   "cell_type": "code",
   "execution_count": null,
   "metadata": {},
   "outputs": [],
   "source": [
    "#!/usr/bin/env python3\n",
    "\n",
    "\n",
    "def solve():\n",
    "    \"\"\"Tính số nghiệm của bài toán lớp 3\n",
    "\n",
    "    Với các biến a,b,c,d,e,f,g,h,i là các số nằm trong khoảng 1-9 (các biến có\n",
    "    thể có giá trị giống nhau), dạng biểu thức:\n",
    "\n",
    "      a + 13 * b / c + d + 12 * e - f - 11 + g * h / i - 10 = 66\n",
    "\n",
    "    Bài toán lớp 3 có số đáp án khổng lồ\n",
    "    (http://www.familug.org/2015/05/codegolf-giai-bai-toan-lop-3-co-so.html)\n",
    "    \"\"\"\n",
    "\n",
    "    result = []\n",
    "    for a in range(1, 10):\n",
    "        for b in range(1, 10):\n",
    "            for c in range(1, 10):\n",
    "                for d in range(1, 10):\n",
    "                    for e in range(1, 10):\n",
    "                        for f in range(1, 10):\n",
    "                            for g in range(1, 10):\n",
    "                                for h in range(1, 10):\n",
    "                                    for i in range(1, 10):\n",
    "                                        if a + 13 * b / c + d + 12 * e - f - 11 + g * h / i - 10 == 66:\n",
    "                                            result.append([a, b, c, d, e, f, g, h, i])\n",
    "\n",
    "    return result\n",
    "\n",
    "\n",
    "def main():\n",
    "    print(solve())\n",
    "\n",
    "\n",
    "if __name__ == \"__main__\":\n",
    "    main()\n"
   ]
  },
  {
   "cell_type": "markdown",
   "metadata": {},
   "source": [
    "### 4_5:\n",
    "* 1: "
   ]
  },
  {
   "cell_type": "code",
   "execution_count": 26,
   "metadata": {},
   "outputs": [
    {
     "ename": "TypeError",
     "evalue": "can't multiply sequence by non-int of type 'str'",
     "output_type": "error",
     "traceback": [
      "\u001b[1;31m---------------------------------------------------------------------------\u001b[0m",
      "\u001b[1;31mTypeError\u001b[0m                                 Traceback (most recent call last)",
      "\u001b[1;32m<ipython-input-26-61b793adc758>\u001b[0m in \u001b[0;36m<module>\u001b[1;34m\u001b[0m\n\u001b[0;32m     30\u001b[0m \u001b[1;33m\u001b[0m\u001b[0m\n\u001b[0;32m     31\u001b[0m \u001b[1;32mif\u001b[0m \u001b[0m__name__\u001b[0m \u001b[1;33m==\u001b[0m \u001b[1;34m\"__main__\"\u001b[0m\u001b[1;33m:\u001b[0m\u001b[1;33m\u001b[0m\u001b[1;33m\u001b[0m\u001b[0m\n\u001b[1;32m---> 32\u001b[1;33m     \u001b[0mmain\u001b[0m\u001b[1;33m(\u001b[0m\u001b[1;33m)\u001b[0m\u001b[1;33m\u001b[0m\u001b[1;33m\u001b[0m\u001b[0m\n\u001b[0m",
      "\u001b[1;32m<ipython-input-26-61b793adc758>\u001b[0m in \u001b[0;36mmain\u001b[1;34m()\u001b[0m\n\u001b[0;32m     24\u001b[0m     \u001b[0mnumbers\u001b[0m\u001b[1;33m.\u001b[0m\u001b[0mremove\u001b[0m\u001b[1;33m(\u001b[0m\u001b[1;36m0\u001b[0m\u001b[1;33m)\u001b[0m\u001b[1;33m\u001b[0m\u001b[1;33m\u001b[0m\u001b[0m\n\u001b[0;32m     25\u001b[0m \u001b[1;33m\u001b[0m\u001b[0m\n\u001b[1;32m---> 26\u001b[1;33m     \u001b[0mresult\u001b[0m \u001b[1;33m=\u001b[0m \u001b[0msolve\u001b[0m\u001b[1;33m(\u001b[0m\u001b[0mnumbers\u001b[0m\u001b[1;33m)\u001b[0m\u001b[1;33m\u001b[0m\u001b[1;33m\u001b[0m\u001b[0m\n\u001b[0m\u001b[0;32m     27\u001b[0m     \u001b[0mprint\u001b[0m\u001b[1;33m(\u001b[0m\u001b[0mresult\u001b[0m\u001b[1;33m)\u001b[0m\u001b[1;33m\u001b[0m\u001b[1;33m\u001b[0m\u001b[0m\n\u001b[0;32m     28\u001b[0m     \u001b[1;31m#assert result == (0, -14745600)\u001b[0m\u001b[1;33m\u001b[0m\u001b[1;33m\u001b[0m\u001b[1;33m\u001b[0m\u001b[0m\n",
      "\u001b[1;32m<ipython-input-26-61b793adc758>\u001b[0m in \u001b[0;36msolve\u001b[1;34m(numbers)\u001b[0m\n\u001b[0;32m     12\u001b[0m     \u001b[0mproduct_numbers\u001b[0m \u001b[1;33m=\u001b[0m \u001b[1;36m1\u001b[0m\u001b[1;33m\u001b[0m\u001b[1;33m\u001b[0m\u001b[0m\n\u001b[0;32m     13\u001b[0m     \u001b[1;32mfor\u001b[0m \u001b[0mj\u001b[0m \u001b[1;32min\u001b[0m \u001b[0mnumbers\u001b[0m\u001b[1;33m:\u001b[0m\u001b[1;33m\u001b[0m\u001b[1;33m\u001b[0m\u001b[0m\n\u001b[1;32m---> 14\u001b[1;33m         \u001b[0mproduct_numbers\u001b[0m \u001b[1;33m=\u001b[0m \u001b[0mproduct_numbers\u001b[0m \u001b[1;33m*\u001b[0m \u001b[0mi\u001b[0m\u001b[1;33m\u001b[0m\u001b[1;33m\u001b[0m\u001b[0m\n\u001b[0m\u001b[0;32m     15\u001b[0m     \u001b[0mresult\u001b[0m \u001b[1;33m=\u001b[0m \u001b[1;33m(\u001b[0m\u001b[0msum_numbers\u001b[0m\u001b[1;33m,\u001b[0m \u001b[0mproduct_numbers\u001b[0m\u001b[1;33m)\u001b[0m\u001b[1;33m\u001b[0m\u001b[1;33m\u001b[0m\u001b[0m\n\u001b[0;32m     16\u001b[0m \u001b[1;33m\u001b[0m\u001b[0m\n",
      "\u001b[1;31mTypeError\u001b[0m: can't multiply sequence by non-int of type 'str'"
     ]
    }
   ],
   "source": [
    "#!/usr/bin/env python3\n",
    "\n",
    "\n",
    "def solve(numbers):\n",
    "    \"\"\"Tính tổng và tích của dãy số `numbers`\n",
    "\n",
    "    Return một tuple (sum, product)\n",
    "    Không sử dụng hàm `sum`\n",
    "    \"\"\"\n",
    "    result = ()\n",
    "    sum_numbers = sum(i for i in numbers)\n",
    "    product_numbers = 1\n",
    "    for j in numbers:\n",
    "        product_numbers = product_numbers * i\n",
    "    result = (sum_numbers, product_numbers)\n",
    "\n",
    "    return result\n",
    "\n",
    "\n",
    "def main():\n",
    "    # Cho list numbers chứa các số chẵn từ -10 đến 10, trừ số 0.\n",
    "    numbers = range(-10, 11, 2)  # step=2\n",
    "    numbers = list(numbers)\n",
    "    numbers.remove(0)\n",
    "\n",
    "    result = solve(numbers)\n",
    "    print(result)\n",
    "assert result == (0, -14745600)\n",
    "\n",
    "\n",
    "if __name__ == \"__main__\":\n",
    "    main()"
   ]
  },
  {
   "cell_type": "code",
   "execution_count": 18,
   "metadata": {},
   "outputs": [
    {
     "data": {
      "text/plain": [
       "[-10, -8, -6, -4, -2, 2, 4, 6, 8, 10]"
      ]
     },
     "execution_count": 18,
     "metadata": {},
     "output_type": "execute_result"
    }
   ],
   "source": [
    "numbers = range(-10, 11, 2)\n",
    "numbers = list(numbers)\n",
    "numbers.remove(0)\n",
    "#tong = sum(i for i in numbers)\n",
    "#tong\n",
    "numbers"
   ]
  },
  {
   "cell_type": "markdown",
   "metadata": {},
   "source": [
    "### 4_6:\n",
    "\n",
    "* https://www.geeksforgeeks.org/python-extract-numbers-from-string/\n",
    "* https://www.geeksforgeeks.org/python-extract-digits-from-given-string/?ref=rp\n",
    "\n",
    "* Khong dung \"re\" library"
   ]
  },
  {
   "cell_type": "code",
   "execution_count": 10,
   "metadata": {},
   "outputs": [
    {
     "name": "stdout",
     "output_type": "stream",
     "text": [
      "[3, 4]\n"
     ]
    }
   ],
   "source": [
    "\n",
    "def solve(text):\n",
    "    \"\"\"Bóc tách từ `text` ra một list các số theo thứ tự chúng xuất hiện.\n",
    "\n",
    "    VD: 'Em ơi có bao nhiêu, 60năm cuộc đời, 20 năm đầu, sung sướng0bao lâu'\n",
    "    -> [60, 20, 0]\n",
    "\n",
    "    NOTE: không dùng `re` library\n",
    "    \"\"\"\n",
    "\n",
    "    result = [int(i) for i in text.split() if i.isdigit()] # isdigit(): Return True if the string is a digit string, False otherwise.\n",
    "\n",
    "    return result\n",
    "\n",
    "\n",
    "def main():\n",
    "    ss = \"Bé lên 3 bé đi lớp 4\"\n",
    "    print(solve(ss))\n",
    "    #assert solve(ss) == [3, 4]\n",
    "\n",
    "\n",
    "if __name__ == \"__main__\":\n",
    "    main()"
   ]
  },
  {
   "cell_type": "markdown",
   "metadata": {},
   "source": [
    "* Cach 2: https://www.geeksforgeeks.org/python-extract-digits-from-given-string/?ref=rp\n",
    "Dùng để tách các số gắn liền với text \"60năm\" \n",
    "1. Split() text\n",
    "2. lặp list, nếu isdigit(), gắn vào result\n",
    "3. join digit trong list_text"
   ]
  },
  {
   "cell_type": "code",
   "execution_count": 25,
   "metadata": {},
   "outputs": [
    {
     "name": "stdout",
     "output_type": "stream",
     "text": [
      "[60, 20, 0]\n"
     ]
    }
   ],
   "source": [
    "def solve(text):\n",
    "    \"\"\"Bóc tách từ `text` ra một list các số theo thứ tự chúng xuất hiện.\n",
    "\n",
    "    VD: 'Em ơi có bao nhiêu, 60năm cuộc đời, 20 năm đầu, sung sướng0bao lâu'\n",
    "    -> [60, 20, 0]\n",
    "\n",
    "    \"\"\"\n",
    "    text_list = text.split()\n",
    "    result = []\n",
    "    result1 = []\n",
    "    for string in text_list:\n",
    "        if string.isdigit():\n",
    "            result1.append(string)\n",
    "        else:\n",
    "            res = ''.join(filter(lambda i: i.isdigit(), string))\n",
    "            result1.append(res)\n",
    "    result = [int(j) for j in result1 if j]\n",
    "    return result\n",
    "\n",
    "\n",
    "def main():\n",
    "    ss = 'Em ơi có bao nhiêu, 60năm cuộc đời, 20 năm đầu, sung sướng0bao lâu'\n",
    "    print(solve(ss))\n",
    "    #assert solve(ss) == [3, 4]\n",
    "\n",
    "\n",
    "if __name__ == \"__main__\":\n",
    "    main()"
   ]
  },
  {
   "cell_type": "markdown",
   "metadata": {},
   "source": [
    "### 4_7:\n",
    "1: "
   ]
  },
  {
   "cell_type": "code",
   "execution_count": 54,
   "metadata": {},
   "outputs": [
    {
     "name": "stdout",
     "output_type": "stream",
     "text": [
      "Năm 1696 là năm bính tý\n"
     ]
    }
   ],
   "source": [
    "#!/usr/bin/env python3\n",
    "\n",
    "\n",
    "def solve(year):\n",
    "    \"\"\"Trả về tuple-2 chứa year và tên gọi can chi tương ứng. Các từ trong tên\n",
    "    đề phải viết hoa các chữ cái đầu.\n",
    "\n",
    "    Biết có 10 thiên can::\n",
    "\n",
    "      ['giáp', 'ất', 'bính', 'đinh', 'mậu', 'kỷ', 'canh', 'tân', 'nhâm', 'quý']\n",
    "\n",
    "    Và 12 địa chi::\n",
    "\n",
    "      ['tý', 'sửu', 'dần', 'mão', 'thìn', 'tị', 'ngọ', 'mui', 'thân', 'dậu',\n",
    "       'tuất', 'hợi']\n",
    "\n",
    "    Năm 2017 là năm \"Đinh Dậu\".\n",
    "    \"\"\"\n",
    "    thien_can = ['canh', 'tân', 'nhâm', 'quý', 'giáp', 'ất', 'bính', 'đinh', 'mậu', 'kỷ']\n",
    "    dia_chi = ['thân', 'dậu', 'tuất', 'hợi', 'tý', 'sửu', 'dần', 'mão', 'thìn', 'tị', 'ngọ', 'mui',]\n",
    "    can = year%10\n",
    "    chi = year%12\n",
    "    result = thien_can[can] + \" \" + dia_chi[chi]\n",
    "    return result\n",
    "\n",
    "\n",
    "def main():\n",
    "    print(\"Năm {} là năm {}\".format(\"1696\", solve(1696)))\n",
    "\n",
    "\n",
    "if __name__ == \"__main__\":\n",
    "    main()"
   ]
  },
  {
   "cell_type": "markdown",
   "metadata": {},
   "source": [
    "### 4_8:"
   ]
  },
  {
   "cell_type": "code",
   "execution_count": 68,
   "metadata": {},
   "outputs": [
    {
     "name": "stdout",
     "output_type": "stream",
     "text": [
      "[(6, 8, 10), (8, 6, 10)]\n"
     ]
    }
   ],
   "source": [
    "#!/usr/bin/env python3\n",
    "\n",
    "\n",
    "def solve():\n",
    "    \"\"\"Trả về list N bộ integer (a, b, c) là độ dài 3 cạnh của tam giác vuông\n",
    "    cạnh huyền `c` có chu vi 24 cm (perimeter), biết độ dài các cạnh <= 10cm.\n",
    "\n",
    "    Yêu cầu dùng list comprehension.\n",
    "    \"\"\"\n",
    "    result = []\n",
    "    for a in range(1, 11):\n",
    "        for b in range(1, 11):\n",
    "            for c in range(1, 11):\n",
    "                if a + b + c == 24 and a*a + b*b == c*c:\n",
    "                    result.append((a,b,c))\n",
    "    return result\n",
    "\n",
    "\n",
    "def main():\n",
    "    print(solve())\n",
    "\n",
    "\n",
    "if __name__ == \"__main__\":\n",
    "    main()\n"
   ]
  },
  {
   "cell_type": "markdown",
   "metadata": {},
   "source": [
    "### 4_9:"
   ]
  },
  {
   "cell_type": "code",
   "execution_count": 76,
   "metadata": {},
   "outputs": [
    {
     "name": "stdout",
     "output_type": "stream",
     "text": [
      "9\n"
     ]
    }
   ],
   "source": [
    "#!/usr/bin/env python3\n",
    "\n",
    "\n",
    "def solve(numbers):\n",
    "    \"\"\"Tìm phần tử lớn nhất của list số nguyên `numbers`\n",
    "    Không sử dụng function `max`, `sorted`\n",
    "    \"\"\"\n",
    "    assert isinstance(numbers, list)\n",
    "    result = numbers[0]\n",
    "    for numb in numbers[1:]:\n",
    "        if numb <= result:\n",
    "            continue\n",
    "        else:\n",
    "            result = numb\n",
    "    return result\n",
    "\n",
    "\n",
    "def main():\n",
    "    print(solve([-1, 5, 9, 6, 2, 1]))\n",
    "\n",
    "\n",
    "if __name__ == \"__main__\":\n",
    "    main()"
   ]
  },
  {
   "cell_type": "code",
   "execution_count": null,
   "metadata": {},
   "outputs": [],
   "source": []
  },
  {
   "cell_type": "code",
   "execution_count": null,
   "metadata": {},
   "outputs": [],
   "source": []
  },
  {
   "cell_type": "code",
   "execution_count": null,
   "metadata": {},
   "outputs": [],
   "source": []
  },
  {
   "cell_type": "code",
   "execution_count": null,
   "metadata": {},
   "outputs": [],
   "source": []
  },
  {
   "cell_type": "code",
   "execution_count": null,
   "metadata": {},
   "outputs": [],
   "source": []
  },
  {
   "cell_type": "code",
   "execution_count": 7,
   "metadata": {},
   "outputs": [
    {
     "name": "stdout",
     "output_type": "stream",
     "text": [
      "Help on class list in module builtins:\n",
      "\n",
      "class list(object)\n",
      " |  list(iterable=(), /)\n",
      " |  \n",
      " |  Built-in mutable sequence.\n",
      " |  \n",
      " |  If no argument is given, the constructor creates a new empty list.\n",
      " |  The argument must be an iterable if specified.\n",
      " |  \n",
      " |  Methods defined here:\n",
      " |  \n",
      " |  __add__(self, value, /)\n",
      " |      Return self+value.\n",
      " |  \n",
      " |  __contains__(self, key, /)\n",
      " |      Return key in self.\n",
      " |  \n",
      " |  __delitem__(self, key, /)\n",
      " |      Delete self[key].\n",
      " |  \n",
      " |  __eq__(self, value, /)\n",
      " |      Return self==value.\n",
      " |  \n",
      " |  __ge__(self, value, /)\n",
      " |      Return self>=value.\n",
      " |  \n",
      " |  __getattribute__(self, name, /)\n",
      " |      Return getattr(self, name).\n",
      " |  \n",
      " |  __getitem__(...)\n",
      " |      x.__getitem__(y) <==> x[y]\n",
      " |  \n",
      " |  __gt__(self, value, /)\n",
      " |      Return self>value.\n",
      " |  \n",
      " |  __iadd__(self, value, /)\n",
      " |      Implement self+=value.\n",
      " |  \n",
      " |  __imul__(self, value, /)\n",
      " |      Implement self*=value.\n",
      " |  \n",
      " |  __init__(self, /, *args, **kwargs)\n",
      " |      Initialize self.  See help(type(self)) for accurate signature.\n",
      " |  \n",
      " |  __iter__(self, /)\n",
      " |      Implement iter(self).\n",
      " |  \n",
      " |  __le__(self, value, /)\n",
      " |      Return self<=value.\n",
      " |  \n",
      " |  __len__(self, /)\n",
      " |      Return len(self).\n",
      " |  \n",
      " |  __lt__(self, value, /)\n",
      " |      Return self<value.\n",
      " |  \n",
      " |  __mul__(self, value, /)\n",
      " |      Return self*value.\n",
      " |  \n",
      " |  __ne__(self, value, /)\n",
      " |      Return self!=value.\n",
      " |  \n",
      " |  __repr__(self, /)\n",
      " |      Return repr(self).\n",
      " |  \n",
      " |  __reversed__(self, /)\n",
      " |      Return a reverse iterator over the list.\n",
      " |  \n",
      " |  __rmul__(self, value, /)\n",
      " |      Return value*self.\n",
      " |  \n",
      " |  __setitem__(self, key, value, /)\n",
      " |      Set self[key] to value.\n",
      " |  \n",
      " |  __sizeof__(self, /)\n",
      " |      Return the size of the list in memory, in bytes.\n",
      " |  \n",
      " |  append(self, object, /)\n",
      " |      Append object to the end of the list.\n",
      " |  \n",
      " |  clear(self, /)\n",
      " |      Remove all items from list.\n",
      " |  \n",
      " |  copy(self, /)\n",
      " |      Return a shallow copy of the list.\n",
      " |  \n",
      " |  count(self, value, /)\n",
      " |      Return number of occurrences of value.\n",
      " |  \n",
      " |  extend(self, iterable, /)\n",
      " |      Extend list by appending elements from the iterable.\n",
      " |  \n",
      " |  index(self, value, start=0, stop=9223372036854775807, /)\n",
      " |      Return first index of value.\n",
      " |      \n",
      " |      Raises ValueError if the value is not present.\n",
      " |  \n",
      " |  insert(self, index, object, /)\n",
      " |      Insert object before index.\n",
      " |  \n",
      " |  pop(self, index=-1, /)\n",
      " |      Remove and return item at index (default last).\n",
      " |      \n",
      " |      Raises IndexError if list is empty or index is out of range.\n",
      " |  \n",
      " |  remove(self, value, /)\n",
      " |      Remove first occurrence of value.\n",
      " |      \n",
      " |      Raises ValueError if the value is not present.\n",
      " |  \n",
      " |  reverse(self, /)\n",
      " |      Reverse *IN PLACE*.\n",
      " |  \n",
      " |  sort(self, /, *, key=None, reverse=False)\n",
      " |      Stable sort *IN PLACE*.\n",
      " |  \n",
      " |  ----------------------------------------------------------------------\n",
      " |  Static methods defined here:\n",
      " |  \n",
      " |  __new__(*args, **kwargs) from builtins.type\n",
      " |      Create and return a new object.  See help(type) for accurate signature.\n",
      " |  \n",
      " |  ----------------------------------------------------------------------\n",
      " |  Data and other attributes defined here:\n",
      " |  \n",
      " |  __hash__ = None\n",
      "\n"
     ]
    }
   ],
   "source": [
    "help(list)"
   ]
  },
  {
   "cell_type": "code",
   "execution_count": null,
   "metadata": {},
   "outputs": [],
   "source": []
  }
 ],
 "metadata": {
  "kernelspec": {
   "display_name": "Python 3",
   "language": "python",
   "name": "python3"
  },
  "language_info": {
   "codemirror_mode": {
    "name": "ipython",
    "version": 3
   },
   "file_extension": ".py",
   "mimetype": "text/x-python",
   "name": "python",
   "nbconvert_exporter": "python",
   "pygments_lexer": "ipython3",
   "version": "3.7.6"
  }
 },
 "nbformat": 4,
 "nbformat_minor": 4
}
