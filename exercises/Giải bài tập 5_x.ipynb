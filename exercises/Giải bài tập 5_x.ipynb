{
 "cells": [
  {
   "cell_type": "markdown",
   "metadata": {},
   "source": [
    "### 5_1"
   ]
  },
  {
   "cell_type": "code",
   "execution_count": null,
   "metadata": {},
   "outputs": [],
   "source": [
    "#!/usr/bin/env python3\n",
    "\n",
    "\n",
    "data = {\n",
    "    \"xanh lá\": \"#3cba54\",\n",
    "    \"vàng\": \"#f4c20d\",\n",
    "    \"đỏ\": \"#db3236\",\n",
    "    \"xanh da trời\": \"#4885ed\",\n",
    "}\n",
    "\n",
    "\n",
    "def solve(colors):\n",
    "    \"\"\"Ghi ra file index.html code HTML để tạo ra logo của Google với màu sắc\n",
    "    chính xác.\n",
    "    Biết cách để tạo chữ G màu xanh da trời dùng code HTML sau::\n",
    "\n",
    "      <span style=\"color:#4885ed\">G</span>\n",
    "\n",
    "    Return list chứa các tuple, mỗi tuple  chứa chữ cái trong 'Google' và màu\n",
    "    của nó.\n",
    "    Gợi ý: dùng `zip`\n",
    "\n",
    "        In [1]: list(zip(['xanh', 'do'], ['XXX', 'YYY']))\n",
    "        Out[1]: [('xanh', 'XXX'), ('do', 'YYY')]\n",
    "    \"\"\"\n",
    "    result = []\n",
    "\n",
    "    # Xoá dòng raise và Viết code vào đây set result làm kết quả\n",
    "    raise NotImplementedError(\"Học viên chưa làm bài này\")\n",
    "\n",
    "    return result\n",
    "\n",
    "\n",
    "def main():\n",
    "    \"\"\"Biết mã hex của các màu trong Google logo là:\n",
    "    \"\"\"\n",
    "    colors = data\n",
    "    print(solve(colors))\n",
    "\n",
    "\n",
    "if __name__ == \"__main__\":\n",
    "    main()"
   ]
  }
 ],
 "metadata": {
  "kernelspec": {
   "display_name": "Python 3",
   "language": "python",
   "name": "python3"
  },
  "language_info": {
   "codemirror_mode": {
    "name": "ipython",
    "version": 3
   },
   "file_extension": ".py",
   "mimetype": "text/x-python",
   "name": "python",
   "nbconvert_exporter": "python",
   "pygments_lexer": "ipython3",
   "version": "3.7.6"
  }
 },
 "nbformat": 4,
 "nbformat_minor": 4
}
