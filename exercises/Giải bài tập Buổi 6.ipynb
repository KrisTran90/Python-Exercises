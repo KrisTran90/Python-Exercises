{
 "cells": [
  {
   "cell_type": "markdown",
   "metadata": {},
   "source": [
    "### 6_0"
   ]
  },
  {
   "cell_type": "code",
   "execution_count": 2,
   "metadata": {},
   "outputs": [
    {
     "name": "stdout",
     "output_type": "stream",
     "text": [
      "__main__\n",
      "\n",
      "\n",
      "Đọc thêm:\n",
      "\n",
      "- https://pymi.vn/blog/badcode/\n",
      "- https://pymi.vn/blog/return-string/\n",
      "- https://pymi.vn/blog/call-by/\n",
      "\n",
      "Chuẩn bị cho buổi sau\n",
      "---------------------\n",
      "\n",
      "- Cài đặt virtualenv, dùng nó tạo virtualenv cho Python3 (-p python3)\n",
      "- Xem trong thư mục ``env`` vừa tạo có gì.\n",
      "  https://docs.python.org/3/tutorial/venv.html#creating-virtual-environments\n",
      "- Activate môi trường vừa tạo, dùng pip cài đặt các thư viện phổ biến::\n",
      "\n",
      "  ```\n",
      "  pip install requests six flake8 ipython ipdb numpy pandas scipy scikit-learn matplotlib jupyter flask gunicorn beautifulsoup4 requests-html\n",
      "  pip install black # Python 3.6+ only\n",
      "  ```\n",
      "\n"
     ]
    }
   ],
   "source": [
    "#!/usr/bin/env python3\n",
    "\n",
    "__doc__ = \"\"\"\n",
    "\n",
    "Đọc thêm:\n",
    "\n",
    "- https://pymi.vn/blog/badcode/\n",
    "- https://pymi.vn/blog/return-string/\n",
    "- https://pymi.vn/blog/call-by/\n",
    "\n",
    "Chuẩn bị cho buổi sau\n",
    "---------------------\n",
    "\n",
    "- Cài đặt virtualenv, dùng nó tạo virtualenv cho Python3 (-p python3)\n",
    "- Xem trong thư mục ``env`` vừa tạo có gì.\n",
    "  https://docs.python.org/3/tutorial/venv.html#creating-virtual-environments\n",
    "- Activate môi trường vừa tạo, dùng pip cài đặt các thư viện phổ biến::\n",
    "\n",
    "  ```\n",
    "  pip install requests six flake8 ipython ipdb numpy pandas scipy scikit-learn matplotlib jupyter flask gunicorn beautifulsoup4 requests-html\n",
    "  pip install black # Python 3.6+ only\n",
    "  ```\n",
    "\"\"\"  # NOQA\n",
    "\n",
    "\n",
    "def main():\n",
    "    print(__doc__)\n",
    "\n",
    "\n",
    "# __name__ là một biến|name đặc biệt do Python tự tạo ra\n",
    "# nó có giá trị là string \"__main__\" khi file được chạy bằng lệnh\n",
    "# python filename.py\n",
    "# và có giá trị là tên file (bỏ .py) khi được import.\n",
    "if __name__ == \"__main__\":\n",
    "    print(__name__)\n",
    "    main()"
   ]
  },
  {
   "cell_type": "markdown",
   "metadata": {},
   "source": [
    "### 6_1"
   ]
  },
  {
   "cell_type": "code",
   "execution_count": 10,
   "metadata": {},
   "outputs": [
    {
     "name": "stdout",
     "output_type": "stream",
     "text": [
      "__main__\n",
      "[('Nam', '1,230'), ('Pikalong', '35,670'), ('Phan Quan', '2,165,110'), ('Maria', '90,570'), ('Trump', '138,000')]\n"
     ]
    }
   ],
   "source": [
    "#!/usr/bin/env python3\n",
    "\n",
    "data = {\"first_50\": 1230, \"from_51_to_100\": 1530, \"above_100\": 1786}\n",
    "\n",
    "\n",
    "def calculate_cost(usage, prices):\n",
    "    \"\"\"Tính tiền điện\n",
    "    với giá tiền cho bởi đề bài, số điện tiêu thụ `usage`\n",
    "    Trả về giá tiền ở dạng biểu diễn cho người đọc dễ nhìn\n",
    "    Ví dụ: 100000 -> \"100,000\"\n",
    "\n",
    "    Biết:\n",
    "\n",
    "    In [1]: \"{:,}\".format(10000) == \"10,000\"\n",
    "    Out[1]: True\n",
    "    \"\"\"\n",
    "    total_price = 1\n",
    "    \n",
    "    if int(usage) < 50:\n",
    "        total_price = int(usage) * prices[\"first_50\"]\n",
    "        return \"{:,}\".format(total_price) \n",
    "    elif int(usage) <=100:\n",
    "        total_price = (50 * prices[\"first_50\"] + (int(usage)-50)*prices[\"from_51_to_100\"])\n",
    "        return \"{:,}\".format(total_price)\n",
    "    else:\n",
    "        total_price = (\n",
    "            50 * prices[\"first_50\"] \n",
    "            + 50*prices[\"from_51_to_100\"] \n",
    "            + (int(usage)-100)*prices[\"above_100\"]\n",
    "        )\n",
    "        return \"{:,}\".format(total_price)\n",
    "    \n",
    "\n",
    "def solve(input_data):\n",
    "    result = None\n",
    "\n",
    "    # Bài này làm mẫu, gọi function học viên định nghĩa với input để\n",
    "    # tính kết quả.\n",
    "    # Các bài còn lại học viên tự định nghĩa function và gọi function để\n",
    "    # tính toán kết quả `result`\n",
    "    result = [\n",
    "        (i[0].title(), calculate_cost(i[1], input_data[\"prices\"]))\n",
    "        for i in input_data[\"usages\"]\n",
    "    ]\n",
    "\n",
    "    return result\n",
    "\n",
    "\n",
    "def main():\n",
    "    \"\"\"\n",
    "    Cho tiền điện sinh hoạt được tính theo công thức:\n",
    "\n",
    "    - 50 số đầu: 1230 VND/số.\n",
    "    - 50 số tiếp: 1530 VND/số.\n",
    "    - Các số tiếp theo: 1786 VND/số.\n",
    "    \"\"\"\n",
    "    idata = {\n",
    "        \"usages\": [\n",
    "            (\"nam\", \"1\"),\n",
    "            (\"pikalong\", \"29\"),\n",
    "            (\"phan quan\", \"1235\"),\n",
    "            (\"maria\", \"69\"),\n",
    "            (\"trump\", \"100\"),\n",
    "        ],\n",
    "        \"prices\": data,\n",
    "    }\n",
    "    print(solve(idata))\n",
    "\n",
    "\n",
    "# __name__ là một biến|name đặc biệt do Python tự tạo ra\n",
    "# nó có giá trị là string \"__main__\" khi file được chạy bằng lệnh\n",
    "# python filename.py\n",
    "# và có giá trị là tên file (bỏ .py) khi được import.\n",
    "if __name__ == \"__main__\":\n",
    "    print(__name__)\n",
    "    main()\n"
   ]
  },
  {
   "cell_type": "markdown",
   "metadata": {},
   "source": [
    "### 6_3:"
   ]
  },
  {
   "cell_type": "code",
   "execution_count": null,
   "metadata": {},
   "outputs": [],
   "source": [
    "#!/usr/bin/env python3\n",
    "\n",
    "\n",
    "def your_function(iterable, N):\n",
    "    # Sửa tên, set giá trị return\n",
    "    pass\n",
    "\n",
    "\n",
    "def solve(iterable, N):\n",
    "    \"\"\" Chia input_data thành các tuple chứa N phần tử (chunk a list).\n",
    "    Nếu tuple cuối không đủ phần tử thì bỏ đi.\n",
    "    \"\"\"\n",
    "    result = None\n",
    "\n",
    "    # Xoá dòng sau và viết code vào đây set các giá trị phù hợp\n",
    "    raise NotImplementedError(\"Học viên chưa làm bài này\")\n",
    "\n",
    "    # sửa thành tên function phù hợp\n",
    "    result = your_function(iterable, N)\n",
    "\n",
    "    return result\n",
    "\n",
    "\n",
    "def main():\n",
    "    li = [\"meo\", \"bo\", \"ga\", \"cho\", \"chim\", \"gau\", \"voi\"]\n",
    "    print(solve(li, 2))\n",
    "\n",
    "\n",
    "if __name__ == \"__main__\":\n",
    "    main()\n"
   ]
  },
  {
   "cell_type": "markdown",
   "metadata": {},
   "source": [
    "### 6_4:"
   ]
  },
  {
   "cell_type": "code",
   "execution_count": 11,
   "metadata": {},
   "outputs": [
    {
     "name": "stdout",
     "output_type": "stream",
     "text": [
      "(21.5, 30.5)\n"
     ]
    }
   ],
   "source": [
    "#!/usr/bin/env python3\n",
    "\n",
    "\n",
    "def sumall(*input_data):\n",
    "    \"\"\"Viết function ``sumall`` tính tổng của tất cả các argument (int, float,\n",
    "    hoặc string) được gọi. Thay input_data bằng code phù hợp.\n",
    "    \"\"\"\n",
    "    number_list = [float(numb) for numb in input_data]\n",
    "    return sum(number_list)\n",
    "\n",
    "\n",
    "def solve():\n",
    "    result = None\n",
    "\n",
    "    result = sumall(1, 2, 3, 4.5, 5, \" 6 \")\n",
    "    result2 = sumall(1, 2, 3, 4.5, 5, 9, \" 6 \")\n",
    "\n",
    "    return result, result2\n",
    "\n",
    "\n",
    "def main():\n",
    "    print(solve())\n",
    "\n",
    "\n",
    "if __name__ == \"__main__\":\n",
    "    main()\n"
   ]
  },
  {
   "cell_type": "markdown",
   "metadata": {},
   "source": [
    "#### (?) What is the difference between arg and *arg?\n",
    "\n",
    "1. If arguments will be wrapped up in a tuple, use *arg\n",
    "https://docs.python.org/3/tutorial/controlflow.html#arbitrary-argument-lists\n"
   ]
  },
  {
   "cell_type": "markdown",
   "metadata": {},
   "source": [
    "### 6_5:"
   ]
  },
  {
   "cell_type": "code",
   "execution_count": 7,
   "metadata": {},
   "outputs": [
    {
     "ename": "NameError",
     "evalue": "name '__file__' is not defined",
     "output_type": "error",
     "traceback": [
      "\u001b[1;31m---------------------------------------------------------------------------\u001b[0m",
      "\u001b[1;31mNameError\u001b[0m                                 Traceback (most recent call last)",
      "\u001b[1;32m<ipython-input-7-3ad405243986>\u001b[0m in \u001b[0;36m<module>\u001b[1;34m\u001b[0m\n\u001b[0;32m      5\u001b[0m \u001b[1;33m\u001b[0m\u001b[0m\n\u001b[0;32m      6\u001b[0m \u001b[1;33m\u001b[0m\u001b[0m\n\u001b[1;32m----> 7\u001b[1;33m \u001b[0mdata\u001b[0m \u001b[1;33m=\u001b[0m \u001b[0mos\u001b[0m\u001b[1;33m.\u001b[0m\u001b[0mpath\u001b[0m\u001b[1;33m.\u001b[0m\u001b[0mjoin\u001b[0m\u001b[1;33m(\u001b[0m\u001b[0mos\u001b[0m\u001b[1;33m.\u001b[0m\u001b[0mpath\u001b[0m\u001b[1;33m.\u001b[0m\u001b[0mdirname\u001b[0m\u001b[1;33m(\u001b[0m\u001b[0m__file__\u001b[0m\u001b[1;33m)\u001b[0m\u001b[1;33m,\u001b[0m \u001b[1;34m\"salt_contributors.json\"\u001b[0m\u001b[1;33m)\u001b[0m\u001b[1;33m\u001b[0m\u001b[1;33m\u001b[0m\u001b[0m\n\u001b[0m\u001b[0;32m      8\u001b[0m \u001b[1;33m\u001b[0m\u001b[0m\n\u001b[0;32m      9\u001b[0m \u001b[1;33m\u001b[0m\u001b[0m\n",
      "\u001b[1;31mNameError\u001b[0m: name '__file__' is not defined"
     ]
    }
   ],
   "source": [
    "#!/usr/bin/env python3\n",
    "\n",
    "import os\n",
    "import json  # NOQA\n",
    "\n",
    "\n",
    "data = os.path.join(os.path.dirname(__file__), \"salt_contributors.json\")\n",
    "\n",
    "\n",
    "def data_reader(datapath):\n",
    "    \"\"\"Trả về list chứa các dictionary chứa data về các contributor bao gồm\n",
    "    các key: login, html_url và contributions.\n",
    "    Nếu html_url nào bị thiếu, tạo html_url mới bằng\n",
    "    \"https://github.com/\" + login tương ứng.\n",
    "    \"\"\"\n",
    "    result =[]\n",
    "    \n",
    "    with open(datapath, 'rt') as f:\n",
    "        contents = js.load(f)\n",
    "    \n",
    "    keys = [\"login\", \"html_url\", \"contributions\"]\n",
    "    \n",
    "    for content in contents:\n",
    "        get_values = {}\n",
    "        for key, value in content.items():\n",
    "            if key in keys:\n",
    "                get_values[key] = value\n",
    "        try:\n",
    "            if get_values[\"html_url\"] == '':\n",
    "                get_values[\"html_url\"] = \"https://github.com/\" + str(get_values[\"login\"])\n",
    "        except KeyError:\n",
    "            get_values[\"html_url\"] = \"https://github.com/\" + str(get_values[\"login\"])\n",
    "        \n",
    "        result.append(get_values)\n",
    "    return result\n",
    "            \n",
    "\n",
    "def solve(input_data):\n",
    "    result = data_reader(input_data)\n",
    "\n",
    "    return result\n",
    "\n",
    "\n",
    "def main():\n",
    "    \"\"\"Truy cập đường dẫn\n",
    "    https://api.github.com/repos/saltstack/salt/contributors?page=4 Lưu lại\n",
    "    thành file salt_contributors.json.\n",
    "    Sử dụng JSON để chuyển dữ liệu thành dữ liệu trong Python.\n",
    "    File đã được lưu sẵn trong thư mục này - link để đây để học viên biết\n",
    "    dữ liệu lấy từ đâu.\n",
    "    \"\"\"\n",
    "    datafile = data\n",
    "\n",
    "    for d in solve(datafile):\n",
    "        print(\"User: {login} - URL {html_url} - {contributions}\".format(**d))\n",
    "\n",
    "\n",
    "if __name__ == \"__main__\":\n",
    "    main()\n"
   ]
  },
  {
   "cell_type": "markdown",
   "metadata": {},
   "source": [
    "### 6_6:"
   ]
  },
  {
   "cell_type": "code",
   "execution_count": null,
   "metadata": {},
   "outputs": [],
   "source": [
    "#!/usr/bin/env python3\n",
    "\n",
    "import json\n",
    "import urllib.request\n",
    "\n",
    "\"\"\"\n",
    "Read https://docs.python.org/3/howto/urllib2.html#urllib-howto\n",
    "\"\"\"\n",
    "\n",
    "\n",
    "def repositories(github_login):\n",
    "    \"\"\"\n",
    "    Trả về list name của các repos của GitHub user github_login\n",
    "    \"\"\"\n",
    "    with urllib.request.urlopen(\n",
    "        \"https://api.github.com/users/{}/repos\".format(github_login)\n",
    "    ) as f:\n",
    "        repos = json.load(f)\n",
    "        \n",
    "    \n",
    "\n",
    "    return repos\n",
    "\n",
    "\n",
    "def solve(input_data):\n",
    "    return repositories(input_data)\n",
    "\n",
    "\n",
    "def main():\n",
    "    for repo_name in solve(\"pallets\"):\n",
    "        print(repo_name)\n",
    "\n",
    "\n",
    "if __name__ == \"__main__\":\n",
    "    main()"
   ]
  }
 ],
 "metadata": {
  "kernelspec": {
   "display_name": "Python 3",
   "language": "python",
   "name": "python3"
  },
  "language_info": {
   "codemirror_mode": {
    "name": "ipython",
    "version": 3
   },
   "file_extension": ".py",
   "mimetype": "text/x-python",
   "name": "python",
   "nbconvert_exporter": "python",
   "pygments_lexer": "ipython3",
   "version": "3.7.6"
  }
 },
 "nbformat": 4,
 "nbformat_minor": 4
}
