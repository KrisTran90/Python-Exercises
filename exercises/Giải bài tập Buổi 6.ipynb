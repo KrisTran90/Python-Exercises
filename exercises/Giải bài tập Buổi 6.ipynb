{
 "cells": [
  {
   "cell_type": "markdown",
   "metadata": {},
   "source": [
    "### 6_0"
   ]
  },
  {
   "cell_type": "code",
   "execution_count": 2,
   "metadata": {},
   "outputs": [
    {
     "name": "stdout",
     "output_type": "stream",
     "text": [
      "__main__\n",
      "\n",
      "\n",
      "Đọc thêm:\n",
      "\n",
      "- https://pymi.vn/blog/badcode/\n",
      "- https://pymi.vn/blog/return-string/\n",
      "- https://pymi.vn/blog/call-by/\n",
      "\n",
      "Chuẩn bị cho buổi sau\n",
      "---------------------\n",
      "\n",
      "- Cài đặt virtualenv, dùng nó tạo virtualenv cho Python3 (-p python3)\n",
      "- Xem trong thư mục ``env`` vừa tạo có gì.\n",
      "  https://docs.python.org/3/tutorial/venv.html#creating-virtual-environments\n",
      "- Activate môi trường vừa tạo, dùng pip cài đặt các thư viện phổ biến::\n",
      "\n",
      "  ```\n",
      "  pip install requests six flake8 ipython ipdb numpy pandas scipy scikit-learn matplotlib jupyter flask gunicorn beautifulsoup4 requests-html\n",
      "  pip install black # Python 3.6+ only\n",
      "  ```\n",
      "\n"
     ]
    }
   ],
   "source": [
    "#!/usr/bin/env python3\n",
    "\n",
    "__doc__ = \"\"\"\n",
    "\n",
    "Đọc thêm:\n",
    "\n",
    "- https://pymi.vn/blog/badcode/\n",
    "- https://pymi.vn/blog/return-string/\n",
    "- https://pymi.vn/blog/call-by/\n",
    "\n",
    "Chuẩn bị cho buổi sau\n",
    "---------------------\n",
    "\n",
    "- Cài đặt virtualenv, dùng nó tạo virtualenv cho Python3 (-p python3)\n",
    "- Xem trong thư mục ``env`` vừa tạo có gì.\n",
    "  https://docs.python.org/3/tutorial/venv.html#creating-virtual-environments\n",
    "- Activate môi trường vừa tạo, dùng pip cài đặt các thư viện phổ biến::\n",
    "\n",
    "  ```\n",
    "  pip install requests six flake8 ipython ipdb numpy pandas scipy scikit-learn matplotlib jupyter flask gunicorn beautifulsoup4 requests-html\n",
    "  pip install black # Python 3.6+ only\n",
    "  ```\n",
    "\"\"\"  # NOQA\n",
    "\n",
    "\n",
    "def main():\n",
    "    print(__doc__)\n",
    "\n",
    "\n",
    "# __name__ là một biến|name đặc biệt do Python tự tạo ra\n",
    "# nó có giá trị là string \"__main__\" khi file được chạy bằng lệnh\n",
    "# python filename.py\n",
    "# và có giá trị là tên file (bỏ .py) khi được import.\n",
    "if __name__ == \"__main__\":\n",
    "    print(__name__)\n",
    "    main()"
   ]
  },
  {
   "cell_type": "markdown",
   "metadata": {},
   "source": [
    "### 6_1"
   ]
  },
  {
   "cell_type": "code",
   "execution_count": null,
   "metadata": {},
   "outputs": [],
   "source": [
    "#!/usr/bin/env python3\n",
    "\n",
    "data = {\"first_50\": 1230, \"from_51_to_100\": 1530, \"above_100\": 1786}\n",
    "\n",
    "\n",
    "def calculate_cost(usage, prices):\n",
    "    \"\"\"Tính tiền điện\n",
    "    với giá tiền cho bởi đề bài, số điện tiêu thụ `usage`\n",
    "    Trả về giá tiền ở dạng biểu diễn cho người đọc dễ nhìn\n",
    "    Ví dụ: 100000 -> \"100,000\"\n",
    "\n",
    "    Biết:\n",
    "\n",
    "    In [1]: \"{:,}\".format(10000) == \"10,000\"\n",
    "    Out[1]: True\n",
    "    \"\"\"\n",
    "    # Viết code tính toán vào đây\n",
    "    pass\n",
    "\n",
    "\n",
    "def solve(input_data):\n",
    "    result = None\n",
    "\n",
    "    # Xoá dòng sau và viết code vào đây set các giá trị phù hợp\n",
    "    raise NotImplementedError(\"Học viên chưa làm bài này\")\n",
    "\n",
    "    # Bài này làm mẫu, gọi function học viên định nghĩa với input để\n",
    "    # tính kết quả.\n",
    "    # Các bài còn lại học viên tự định nghĩa function và gọi function để\n",
    "    # tính toán kết quả `result`\n",
    "    result = [\n",
    "        (i[0].title(), calculate_cost(i[1], input_data[\"prices\"]))\n",
    "        for i in input_data[\"usages\"]\n",
    "    ]\n",
    "\n",
    "    return result\n",
    "\n",
    "\n",
    "def main():\n",
    "    \"\"\"\n",
    "    Cho tiền điện sinh hoạt được tính theo công thức:\n",
    "\n",
    "    - 50 số đầu: 1230 VND/số.\n",
    "    - 50 số tiếp: 1530 VND/số.\n",
    "    - Các số tiếp theo: 1786 VND/số.\n",
    "    \"\"\"\n",
    "    idata = {\n",
    "        \"usages\": [\n",
    "            (\"nam\", \"1\"),\n",
    "            (\"pikalong\", \"29\"),\n",
    "            (\"phan quan\", \"1235\"),\n",
    "            (\"maria\", \"69\"),\n",
    "            (\"trump\", \"100\"),\n",
    "        ],\n",
    "        \"prices\": data,\n",
    "    }\n",
    "    print(solve(idata))\n",
    "\n",
    "\n",
    "# __name__ là một biến|name đặc biệt do Python tự tạo ra\n",
    "# nó có giá trị là string \"__main__\" khi file được chạy bằng lệnh\n",
    "# python filename.py\n",
    "# và có giá trị là tên file (bỏ .py) khi được import.\n",
    "if __name__ == \"__main__\":\n",
    "    print(__name__)\n",
    "    main()\n"
   ]
  },
  {
   "cell_type": "code",
   "execution_count": null,
   "metadata": {},
   "outputs": [],
   "source": []
  },
  {
   "cell_type": "code",
   "execution_count": null,
   "metadata": {},
   "outputs": [],
   "source": []
  },
  {
   "cell_type": "code",
   "execution_count": null,
   "metadata": {},
   "outputs": [],
   "source": []
  },
  {
   "cell_type": "code",
   "execution_count": null,
   "metadata": {},
   "outputs": [],
   "source": []
  },
  {
   "cell_type": "code",
   "execution_count": null,
   "metadata": {},
   "outputs": [],
   "source": []
  },
  {
   "cell_type": "code",
   "execution_count": null,
   "metadata": {},
   "outputs": [],
   "source": []
  },
  {
   "cell_type": "code",
   "execution_count": null,
   "metadata": {},
   "outputs": [],
   "source": []
  },
  {
   "cell_type": "code",
   "execution_count": null,
   "metadata": {},
   "outputs": [],
   "source": []
  },
  {
   "cell_type": "code",
   "execution_count": null,
   "metadata": {},
   "outputs": [],
   "source": []
  }
 ],
 "metadata": {
  "kernelspec": {
   "display_name": "Python 3",
   "language": "python",
   "name": "python3"
  },
  "language_info": {
   "codemirror_mode": {
    "name": "ipython",
    "version": 3
   },
   "file_extension": ".py",
   "mimetype": "text/x-python",
   "name": "python",
   "nbconvert_exporter": "python",
   "pygments_lexer": "ipython3",
   "version": "3.7.6"
  }
 },
 "nbformat": 4,
 "nbformat_minor": 4
}
