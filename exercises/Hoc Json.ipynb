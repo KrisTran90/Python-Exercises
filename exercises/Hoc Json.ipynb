{
 "cells": [
  {
   "cell_type": "markdown",
   "metadata": {},
   "source": [
    "### Encoding and Decoding simple Data types"
   ]
  },
  {
   "cell_type": "code",
   "execution_count": 1,
   "metadata": {},
   "outputs": [],
   "source": [
    "import json"
   ]
  },
  {
   "cell_type": "code",
   "execution_count": 3,
   "metadata": {},
   "outputs": [],
   "source": [
    "data = {\n",
    "    \"login\": \"baijum\",\n",
    "    \"id\": 121129,\n",
    "    \"node_id\": \"MDQ6VXNlcjEyMTEyOQ==\",\n",
    "    \"avatar_url\": \"https://avatars3.githubusercontent.com/u/121129?v=4\",\n",
    "    \"gravatar_id\": \"\",\n",
    "    \"url\": \"https://api.github.com/users/baijum\",\n",
    "    \"html_url\": \"https://github.com/baijum\",\n",
    "    \"followers_url\": \"https://api.github.com/users/baijum/followers\",\n",
    "    \"following_url\": \"https://api.github.com/users/baijum/following{/other_user}\",\n",
    "    \"gists_url\": \"https://api.github.com/users/baijum/gists{/gist_id}\",\n",
    "    \"starred_url\": \"https://api.github.com/users/baijum/starred{/owner}{/repo}\",\n",
    "    \"subscriptions_url\": \"https://api.github.com/users/baijum/subscriptions\",\n",
    "    \"organizations_url\": \"https://api.github.com/users/baijum/orgs\",\n",
    "    \"repos_url\": \"https://api.github.com/users/baijum/repos\",\n",
    "    \"events_url\": \"https://api.github.com/users/baijum/events{/privacy}\",\n",
    "    \"received_events_url\": \"https://api.github.com/users/baijum/received_events\",\n",
    "    \"type\": \"User\",\n",
    "    \"site_admin\": False,\n",
    "    \"contributions\": 69\n",
    "}"
   ]
  },
  {
   "cell_type": "code",
   "execution_count": 4,
   "metadata": {},
   "outputs": [
    {
     "name": "stdout",
     "output_type": "stream",
     "text": [
      "Data: {'login': 'baijum', 'id': 121129, 'node_id': 'MDQ6VXNlcjEyMTEyOQ==', 'avatar_url': 'https://avatars3.githubusercontent.com/u/121129?v=4', 'gravatar_id': '', 'url': 'https://api.github.com/users/baijum', 'html_url': 'https://github.com/baijum', 'followers_url': 'https://api.github.com/users/baijum/followers', 'following_url': 'https://api.github.com/users/baijum/following{/other_user}', 'gists_url': 'https://api.github.com/users/baijum/gists{/gist_id}', 'starred_url': 'https://api.github.com/users/baijum/starred{/owner}{/repo}', 'subscriptions_url': 'https://api.github.com/users/baijum/subscriptions', 'organizations_url': 'https://api.github.com/users/baijum/orgs', 'repos_url': 'https://api.github.com/users/baijum/repos', 'events_url': 'https://api.github.com/users/baijum/events{/privacy}', 'received_events_url': 'https://api.github.com/users/baijum/received_events', 'type': 'User', 'site_admin': False, 'contributions': 69}\n"
     ]
    }
   ],
   "source": [
    "print(\"Data:\", repr(data))"
   ]
  },
  {
   "cell_type": "code",
   "execution_count": 5,
   "metadata": {},
   "outputs": [
    {
     "data": {
      "text/plain": [
       "{'login': 'baijum',\n",
       " 'id': 121129,\n",
       " 'node_id': 'MDQ6VXNlcjEyMTEyOQ==',\n",
       " 'avatar_url': 'https://avatars3.githubusercontent.com/u/121129?v=4',\n",
       " 'gravatar_id': '',\n",
       " 'url': 'https://api.github.com/users/baijum',\n",
       " 'html_url': 'https://github.com/baijum',\n",
       " 'followers_url': 'https://api.github.com/users/baijum/followers',\n",
       " 'following_url': 'https://api.github.com/users/baijum/following{/other_user}',\n",
       " 'gists_url': 'https://api.github.com/users/baijum/gists{/gist_id}',\n",
       " 'starred_url': 'https://api.github.com/users/baijum/starred{/owner}{/repo}',\n",
       " 'subscriptions_url': 'https://api.github.com/users/baijum/subscriptions',\n",
       " 'organizations_url': 'https://api.github.com/users/baijum/orgs',\n",
       " 'repos_url': 'https://api.github.com/users/baijum/repos',\n",
       " 'events_url': 'https://api.github.com/users/baijum/events{/privacy}',\n",
       " 'received_events_url': 'https://api.github.com/users/baijum/received_events',\n",
       " 'type': 'User',\n",
       " 'site_admin': False,\n",
       " 'contributions': 69}"
      ]
     },
     "execution_count": 5,
     "metadata": {},
     "output_type": "execute_result"
    }
   ],
   "source": [
    "data"
   ]
  },
  {
   "cell_type": "code",
   "execution_count": 6,
   "metadata": {},
   "outputs": [
    {
     "data": {
      "text/plain": [
       "'{\"login\": \"baijum\", \"id\": 121129, \"node_id\": \"MDQ6VXNlcjEyMTEyOQ==\", \"avatar_url\": \"https://avatars3.githubusercontent.com/u/121129?v=4\", \"gravatar_id\": \"\", \"url\": \"https://api.github.com/users/baijum\", \"html_url\": \"https://github.com/baijum\", \"followers_url\": \"https://api.github.com/users/baijum/followers\", \"following_url\": \"https://api.github.com/users/baijum/following{/other_user}\", \"gists_url\": \"https://api.github.com/users/baijum/gists{/gist_id}\", \"starred_url\": \"https://api.github.com/users/baijum/starred{/owner}{/repo}\", \"subscriptions_url\": \"https://api.github.com/users/baijum/subscriptions\", \"organizations_url\": \"https://api.github.com/users/baijum/orgs\", \"repos_url\": \"https://api.github.com/users/baijum/repos\", \"events_url\": \"https://api.github.com/users/baijum/events{/privacy}\", \"received_events_url\": \"https://api.github.com/users/baijum/received_events\", \"type\": \"User\", \"site_admin\": false, \"contributions\": 69}'"
      ]
     },
     "execution_count": 6,
     "metadata": {},
     "output_type": "execute_result"
    }
   ],
   "source": [
    "data_string = json.dumps(data)\n",
    "data_string"
   ]
  },
  {
   "cell_type": "code",
   "execution_count": null,
   "metadata": {},
   "outputs": [],
   "source": []
  }
 ],
 "metadata": {
  "kernelspec": {
   "display_name": "Python 3",
   "language": "python",
   "name": "python3"
  },
  "language_info": {
   "codemirror_mode": {
    "name": "ipython",
    "version": 3
   },
   "file_extension": ".py",
   "mimetype": "text/x-python",
   "name": "python",
   "nbconvert_exporter": "python",
   "pygments_lexer": "ipython3",
   "version": "3.7.6"
  }
 },
 "nbformat": 4,
 "nbformat_minor": 4
}
